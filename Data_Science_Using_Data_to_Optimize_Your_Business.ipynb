{
 "cells": [
  {
   "cell_type": "markdown",
   "metadata": {},
   "source": [
    "# Data Science: Using Data to Optimize your Business"
   ]
  },
  {
   "cell_type": "markdown",
   "metadata": {},
   "source": [
    "# Bike Sharing Data Set from UCI Machine Learning Repository"
   ]
  },
  {
   "cell_type": "markdown",
   "metadata": {},
   "source": [
    "README FILE: Readme_v2.txt\n",
    "\n",
    "DATA FILE: day_data.csv"
   ]
  },
  {
   "cell_type": "markdown",
   "metadata": {},
   "source": [
    "## PREP: Getting Started"
   ]
  },
  {
   "cell_type": "markdown",
   "metadata": {},
   "source": [
    "You will need to use a jupyter notebook for this capstone.\n",
    "\n",
    "Read the readme file (Readme_v2.txt) for information on the data and business.\n",
    "\n",
    "In your jupyter notebook import the data day_data.csv into a dataframe. This file is found in Curriculum/Summer_Camp/Capstones/DataScience."
   ]
  },
  {
   "cell_type": "code",
   "execution_count": null,
   "metadata": {
    "collapsed": true
   },
   "outputs": [],
   "source": []
  },
  {
   "cell_type": "markdown",
   "metadata": {},
   "source": [
    "## STEP 1: Understand the business your data represents"
   ]
  },
  {
   "cell_type": "markdown",
   "metadata": {},
   "source": [
    "Before you jump into analyzing data take a step back and get in the right mindset. This means having a general understanding of the business you are analyzing data for. For this exercise we are analyzing the data from the bike sharing company Capital Bikeshare system, Washington D.C.,USA.\n",
    "\n",
    "1. What is a bike sharing company?\n",
    "2. What is bike sharing ideal for? HINT: Check out their website: https://www.capitalbikeshare.com/how-it-works\n",
    "3. What are the pricing options for Capital Bikeshare? HINT: Check out their website: https://www.capitalbikeshare.com/how-it-works\n",
    "4. Bike sharing systems are compared to public transportation models like trains, buses, etc. But what makes bike sharing different from these other modes of transportation?\n",
    "5. What external factors influence the number or rentals in a day?"
   ]
  },
  {
   "cell_type": "code",
   "execution_count": null,
   "metadata": {
    "collapsed": true
   },
   "outputs": [],
   "source": []
  },
  {
   "cell_type": "markdown",
   "metadata": {},
   "source": [
    "## STEP 2: Understand your data"
   ]
  },
  {
   "cell_type": "markdown",
   "metadata": {},
   "source": [
    "Most data falls into 2 groups - numerical and categorical. \n",
    "\n",
    "Numerical data (also referred to as quantitative data) has meaning as a measurement, for example a person’s age, height, weight, or blood pressure; or they’re a count, such as the number of socks a person owns, how many toys a dog has, or how many classess a student is taking in school. \n",
    "\n",
    "Categorical data represent characteristics such as a person’s gender, marital status, hometown, or the types of sports they like. Categorical data can take on numerical values (such as “1” indicating male and “2” indicating female), but those numbers don’t have mathematical meaning. You couldn’t add them together, for example. Categorical data also includes yes/no and either/or data.\n",
    "\n",
    "1. What data were you given about Capital Bikeshare's business? Explain the columns. For example, which are numerical and which are categorical? How do you translate the data in the columns with categorical data into meaningful information?\n",
    "2. What is the date range of your data?\n",
    "3. How many days of data do you have? How many hours of data?\n",
    "4. How many total bike rentals in the date range privided in your data?\n",
    "5. What percentage of the total bike rentals are from registered users?\n",
    "6. Which day has the highest number of rentals? The lowest? HINT: You'll need to use a function called idxmax() and idxmin().\n",
    "7. What other insights can you uncover from the data?"
   ]
  },
  {
   "cell_type": "code",
   "execution_count": null,
   "metadata": {
    "collapsed": true
   },
   "outputs": [],
   "source": []
  },
  {
   "cell_type": "markdown",
   "metadata": {},
   "source": [
    "## STEP 3: Visualize your data"
   ]
  },
  {
   "cell_type": "markdown",
   "metadata": {},
   "source": [
    "Data are simply facts or figures — bits of information, but not information itself. When data are processed, interpreted, organized, structured or presented so as to make them meaningful or useful, they are called information. Information provides context for data. Visualizing your data is one way to turn data into information.\n",
    "\n",
    "Create bar charts showing the following data and then explain the new information provided by the chart that you didn't know from just looking at the raw data before:\n",
    "1. Mean # of rentals by month.\n",
    "2. Mean tempurature by month.\n",
    "\n",
    "3. Mean # of rentals by weekday.\n",
    "4. Mean # of rentals by hour. (HINT: Use the hour_data for this).\n",
    "\n",
    "5. Mean # of rentals by weathersit. HINT: Use the hour_data for this.\n",
    "6. Mean # of rentals by holiday. (Whether day is a holiday or not)\n",
    "\n",
    "HINT: Seaborn barcharts shows the mean of the data by default."
   ]
  },
  {
   "cell_type": "code",
   "execution_count": null,
   "metadata": {
    "collapsed": true
   },
   "outputs": [],
   "source": []
  },
  {
   "cell_type": "markdown",
   "metadata": {},
   "source": [
    "## STEP 4: Let's talk business - market segmentation."
   ]
  },
  {
   "cell_type": "markdown",
   "metadata": {},
   "source": [
    "If you have reached this point you are probably thinking that you have extracted some pretty cool information about how the Capital Bikeshare customers have behaved from the data. But we have done something terribly wrong from a business perspective. We have assumed all our customers are the same and behave the same way. Market segmentation is the process of dividing your existing and potential customers into sub-groups of consumers (known as segments) with similar needs and wants. In this exercise we are going to determine if we should segment our customers in any way.\n",
    "\n",
    "1. The only information we were given about our customers is that they are either registered or not_registered. Redo Step 3 with each the Registered and Not_Registered customers. How does this change the information/insight from STEP 3? How do these two customer segments differ from eachother?"
   ]
  },
  {
   "cell_type": "markdown",
   "metadata": {
    "collapsed": true
   },
   "source": [
    "## Extra Credit - Predictions"
   ]
  },
  {
   "cell_type": "markdown",
   "metadata": {},
   "source": [
    "1. Identify the variables that most impact hourly ridership.\n",
    "2. Develop a model to predict hourly bikeshare demand in the Greater Washington DC region based on historical ridership and weather data.\n",
    "\n",
    "NOTE: This is an advanced exercise. Please ask your instructor for guidance. "
   ]
  },
  {
   "cell_type": "code",
   "execution_count": null,
   "metadata": {
    "collapsed": true
   },
   "outputs": [],
   "source": []
  }
 ],
 "metadata": {
  "anaconda-cloud": {},
  "kernelspec": {
   "display_name": "Python 3",
   "language": "python",
   "name": "python3"
  },
  "language_info": {
   "codemirror_mode": {
    "name": "ipython",
    "version": 3
   },
   "file_extension": ".py",
   "mimetype": "text/x-python",
   "name": "python",
   "nbconvert_exporter": "python",
   "pygments_lexer": "ipython3",
   "version": "3.7.3"
  }
 },
 "nbformat": 4,
 "nbformat_minor": 2
}
