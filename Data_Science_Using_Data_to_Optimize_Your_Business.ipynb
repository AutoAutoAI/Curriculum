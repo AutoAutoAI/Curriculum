{
 "cells": [
  {
   "cell_type": "markdown",
   "metadata": {},
   "source": [
    "# Data Science: Using Data to Optimize your Business</font>"
   ]
  },
  {
   "cell_type": "markdown",
   "metadata": {},
   "source": [
    "In this exercise, we’ll be seeing a real-world example of how a company can use data to optimize the business decisions they make. Studies show that data-driven organizations not only make better strategic decisions, but also enjoy high operational efficiency, improved customer satisfaction, and robust profit and revenue levels.\n",
    "\n",
    "![](images/gartner.png)\n",
    "\n",
    "It is also important to note that it is not enough simply to have data, but derive meaningful insights from that data—and convert knowledge into action. Moreover, companies must not only focus on existing data, but the creation of new and useful data. Data creation and capture are moving data science beyond analysis and into the realm of managing when and how data is collected, annotated, and organized. For example, A/B tests on your business’s website are a simple way to create new data that measures how your website performs, how customers interact with it, and how you can improve those interactions."
   ]
  },
  {
   "cell_type": "markdown",
   "metadata": {},
   "source": [
    "# Bike Sharing Data Set from UCI Machine Learning Repository"
   ]
  },
  {
   "cell_type": "markdown",
   "metadata": {},
   "source": [
    "See https://archive.ics.uci.edu/ml/datasets/bike+sharing+dataset for the Capital Bikeshare Data Set and Attribute Information.\n",
    "\n",
    "DATA FILE: `day_data.csv`. (This file is found in https://github.com/AutoAutoAI/Curriculum/data/day_data.csv).\n",
    "\n",
    "![](images/capital.png)"
   ]
  },
  {
   "cell_type": "markdown",
   "metadata": {},
   "source": [
    "## PREP: Getting Started"
   ]
  },
  {
   "cell_type": "markdown",
   "metadata": {},
   "source": [
    "You will be using a Jupyter Notebook for this capstone.\n",
    "\n",
    "In your Jupyter Notebook, import the `\"day_data.csv\"` into a Pandas DataFrame. \n",
    "To do this, you must load the Pandas library (use alias `pd`) and call the `.read_csv()` function. \n",
    "\n",
    "Print the DataFrame. <font color=green>*Include **one** of these lines of code for formatting*:</font> \n",
    "```python \n",
    "pd.options.display.max_columns = 10\n",
    "``` \n",
    "or \n",
    "```python \n",
    "pd.set_option('display.expand_frame_repr', False)```"
   ]
  },
  {
   "cell_type": "code",
   "execution_count": null,
   "metadata": {},
   "outputs": [],
   "source": []
  },
  {
   "cell_type": "markdown",
   "metadata": {},
   "source": [
    "## STEP 1: Understand the business your data represents\n",
    "\n",
    "Before you jump into analyzing data, take a step back and get in the right mindset. This means having a general understanding of the business you are analyzing data for. \n",
    "\n",
    "We are analyzing the data from the bike sharing company !![](images/bikeshare.png) - based out of Washington D.C., USA. Imagine you are the Business Intelligence Analyst for this company. \n",
    "\n",
    "1. What is a bike sharing company?\n",
    "2. What is bike sharing ideal for? HINT: Check out their website: https://www.capitalbikeshare.com/how-it-works\n",
    "3. What are the pricing options for Capital Bikeshare? HINT: Check out their website: https://www.capitalbikeshare.com/pricing and https://www.capitalbikeshare.com/system-data\n",
    "4. Bike sharing systems are compared to public transportation models like trains, buses, etc. But what makes bike sharing different from these other modes of transportation?\n",
    "5. What external factors influence the number of rentals in a day?"
   ]
  },
  {
   "cell_type": "code",
   "execution_count": null,
   "metadata": {},
   "outputs": [],
   "source": []
  },
  {
   "cell_type": "markdown",
   "metadata": {},
   "source": [
    "## STEP 2: Understand your data"
   ]
  },
  {
   "cell_type": "markdown",
   "metadata": {},
   "source": [
    "Most data falls into 2 groups - **numerical** and **categorical**. \n",
    "\n",
    "Numerical data (also referred to as **quantitative** data) has meaning as a measurement, for example a person’s age, height, weight, or blood pressure; or they’re a count, such as the number of socks a person owns, how many toys a dog has, or how many classess a student is taking in school. \n",
    "\n",
    "Categorical data (also referred to as **qualitative** data) represent characteristics such as a person’s gender, marital status, hometown, or the types of sports they like. Categorical data can take on numerical values (such as “1” indicating male and “2” indicating female), but those numbers don’t have mathematical meaning. You couldn’t add them together, for example. Categorical data also includes yes/no and either/or data.\n",
    "\n",
    "1. What data were you given about Capital Bikeshare's business? Explain the columns. For example, which are numerical and which are categorical? How do you translate the data in the columns with categorical data into meaningful information? (See https://archive.ics.uci.edu/ml/datasets/bike+sharing+dataset under **Attribute Info.**)\n",
    "2. What is the date range of your data?\n",
    "3. How many days of data do you have? How many hours of data?\n",
    "4. How many total bike rentals in the date range provided in your data?\n",
    "5. What percentage of the total bike rentals are from registered users?\n",
    "6. Which day has the highest number of rentals? The lowest? **HINT:** You'll need to use a function called `idxmax()` and `idxmin()`.\n",
    "7. What other insights can you uncover from the data?"
   ]
  },
  {
   "cell_type": "code",
   "execution_count": null,
   "metadata": {},
   "outputs": [],
   "source": []
  },
  {
   "cell_type": "markdown",
   "metadata": {},
   "source": [
    "## STEP 3: Visualize your data"
   ]
  },
  {
   "cell_type": "markdown",
   "metadata": {},
   "source": [
    "Data are simply facts or figures — bits of information, but not information itself. When data are processed, interpreted, organized, structured or presented so as to make them meaningful or useful, they are called information. Information provides context for data. Visualizing your data is one way to turn data into information.\n",
    "\n",
    "Create bar charts showing the following data and then explain the new information provided by the chart that you didn't know from just looking at the raw data before. Be sure to provide a title for each bar graph.\n",
    "\n",
    "**HINTS:** \n",
    "```python\n",
    "import seaborn as sns \n",
    "import pandas as pd\n",
    "import matplotlib.pyplot as plt\n",
    "```\n",
    "Use `plt.title()` to title each graph. Use `sns.barplot()` and `plt.show()` to print the charts. Be sure to label your x and y-axes appropriately. \n",
    "\n",
    "1. Mean # of rentals by month.\n",
    "\n",
    "2. Mean # of rentals by season.\n",
    "\n",
    "3. Mean tempurature by month.\n",
    "\n",
    "4. Mean # of rentals by weekday.\n",
    "\n",
    "5. Mean # of rentals by holiday. (*Whether day is a holiday or not*)\n",
    "\n",
    "6. Mean # of rentals by hour. (__HINT__: Use the `\"hour_data.csv\"` for this).\n",
    "\n",
    "7. Mean # of rentals by weathersit. (**HINT**: Use the `\"hour_data.csv\"` for this).\n",
    "\n",
    "\n",
    "(**HINT**: Seaborn barcharts shows the mean of the data by default.)"
   ]
  },
  {
   "cell_type": "code",
   "execution_count": null,
   "metadata": {},
   "outputs": [],
   "source": []
  },
  {
   "cell_type": "markdown",
   "metadata": {},
   "source": [
    "## STEP 4: Let's talk business - market segmentation."
   ]
  },
  {
   "cell_type": "markdown",
   "metadata": {},
   "source": [
    "If you have reached this point you are probably thinking that you have extracted some pretty cool information about how the Capital Bikeshare customers have behaved from the data. But we have done something terribly wrong from a business perspective. We have assumed all our customers are the same and behave the same way. Market segmentation is the process of dividing your existing and potential customers into sub-groups of consumers (known as segments) with similar needs and wants. In this exercise we are going to determine if we should segment our customers in any way.\n",
    "\n",
    "1. The only information we were given about our customers is that they are either registered or not_registered. Redo Step 3 with each the Registered and Not_Registered customers. How does this change the information/insight from **STEP 3**? How do these two customer segments differ from eachother?"
   ]
  },
  {
   "cell_type": "markdown",
   "metadata": {
    "collapsed": true
   },
   "source": [
    "## Extra Credit - Predictions"
   ]
  },
  {
   "cell_type": "markdown",
   "metadata": {},
   "source": [
    "1. Identify the variables that most impact hourly ridership.\n",
    "2. Develop a model to predict hourly bikeshare demand in the Greater Washington DC region based on historical ridership and weather data.\n",
    "\n",
    "**NOTE:** This is an advanced exercise. Please ask your instructor for guidance. "
   ]
  },
  {
   "cell_type": "code",
   "execution_count": null,
   "metadata": {},
   "outputs": [],
   "source": []
  }
 ],
 "metadata": {
  "anaconda-cloud": {},
  "kernelspec": {
   "display_name": "Python 3",
   "language": "python",
   "name": "python3"
  },
  "language_info": {
   "codemirror_mode": {
    "name": "ipython",
    "version": 3
   },
   "file_extension": ".py",
   "mimetype": "text/x-python",
   "name": "python",
   "nbconvert_exporter": "python",
   "pygments_lexer": "ipython3",
   "version": "3.7.3"
  }
 },
 "nbformat": 4,
 "nbformat_minor": 2
}
