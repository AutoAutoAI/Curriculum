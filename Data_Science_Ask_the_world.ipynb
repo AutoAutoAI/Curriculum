{
 "cells": [
  {
   "cell_type": "markdown",
   "metadata": {},
   "source": [
    " "
   ]
  },
  {
   "cell_type": "markdown",
   "metadata": {},
   "source": [
    "# How to \"See\" Data\n",
    "\n",
    "We learned earlier that data is made up of information and facts. So how do we show data? We can't just put on a stage or on TV by itself, can we?\n",
    "\n",
    "To show, or **visualize**, data, we often use **plots**. Let's look through a short example. What's happening in the first cell below?"
   ]
  },
  {
   "cell_type": "code",
   "execution_count": null,
   "metadata": {
    "collapsed": false
   },
   "outputs": [],
   "source": [
    "activities = ['soccer', 'swimming', 'rock climbing'] # what are we creating in this line?\n",
    "students = [5, 3, 8]"
   ]
  },
  {
   "cell_type": "markdown",
   "metadata": {},
   "source": [
    " To prepare for our plots, we also need to combine the lists together into a set of rows and columns called a **dataframe**. To do this, we'll need to import the **pandas** library. "
   ]
  },
  {
   "cell_type": "markdown",
   "metadata": {},
   "source": [
    "### Creating a Dataframe"
   ]
  },
  {
   "cell_type": "code",
   "execution_count": null,
   "metadata": {
    "collapsed": false
   },
   "outputs": [],
   "source": [
    "# Make a dataframe called student_activities\n",
    "import pandas\n",
    "student_activities = pandas.DataFrame({'activity': activities, 'number_students': students})\n",
    "student_activities"
   ]
  },
  {
   "cell_type": "markdown",
   "metadata": {},
   "source": [
    "Okay, now the real fun happens! Let's talk through the lines of code below and see what the output looks like. Pay special attention to what's happening in the third line of code!"
   ]
  },
  {
   "cell_type": "markdown",
   "metadata": {},
   "source": [
    "### Visualizing our Data"
   ]
  },
  {
   "cell_type": "code",
   "execution_count": null,
   "metadata": {
    "collapsed": false
   },
   "outputs": [],
   "source": [
    "# We use this special command at the top to tell Python we want to show a plot. \n",
    "%matplotlib inline \n",
    "import seaborn \n",
    "seaborn.barplot(x = 'activity', y = 'number_students', data = student_activities) "
   ]
  },
  {
   "cell_type": "markdown",
   "metadata": {},
   "source": [
    "Pretty, isn't it? This plot is called a **bar plot** because each bar shows how many students like each activity. There's one bar for each activity, and a taller bar means more students like that activity. The numbers on the left show the exact number of students."
   ]
  },
  {
   "cell_type": "markdown",
   "metadata": {},
   "source": [
    "__Your Turn:__ Change the names in __activities list__ and change the numbers in the __students list__.  \n",
    "Then run that cell again and all the other cells up to here. Is the plot different?  :) "
   ]
  },
  {
   "cell_type": "markdown",
   "metadata": {},
   "source": [
    "__Your Turn__: In the cell below, try the **seaborn.barplot** function again, but switch the names that were set to 'x' and 'y'. What happens? "
   ]
  },
  {
   "cell_type": "code",
   "execution_count": null,
   "metadata": {
    "collapsed": false
   },
   "outputs": [],
   "source": [
    "# Switch the list positions\n"
   ]
  },
  {
   "cell_type": "markdown",
   "metadata": {},
   "source": [
    "Crazy, right? This is how the 'x' and 'y' choices affect your plot. The first version of the plot is used more commonly, so try to use vertical bars when you can. That means putting the number list second. "
   ]
  },
  {
   "cell_type": "markdown",
   "metadata": {},
   "source": [
    "### Exercise: Ask the world!!\n",
    "If you could ask a question to learn about the people around you, what would it be? "
   ]
  },
  {
   "cell_type": "markdown",
   "metadata": {},
   "source": [
    "Now you're going to collect some data to make your own plot. Here's what you need to do:  \n",
    "\n",
    "__1.__ Ask each of your classmates and teachers if they like better from three choices from something your are curious about.  \n",
    "\n",
    "__Next__, once you have \"enough\" data collected, we will go back to this and..  \n",
    "\n",
    "__2.__ In Python make two lists: one for the the three options for your topic, and one for how many people like each. Use the example above for help, and make sure that your numbers and flavors match by index.   \n",
    "__3.__ Create a bar plot to show off your fancy new data!  \n"
   ]
  },
  {
   "cell_type": "code",
   "execution_count": null,
   "metadata": {
    "collapsed": true
   },
   "outputs": [],
   "source": [
    "# Create your two lists, and give them each names.\n",
    "\n"
   ]
  },
  {
   "cell_type": "code",
   "execution_count": null,
   "metadata": {
    "collapsed": true
   },
   "outputs": [],
   "source": [
    "# Create a dataframe with the lists your ceated, look at the second cell of code above.\n",
    "\n"
   ]
  },
  {
   "cell_type": "markdown",
   "metadata": {},
   "source": [
    "Since we already ran the special command and imported seaborn, you don't need to do it again here. "
   ]
  },
  {
   "cell_type": "code",
   "execution_count": null,
   "metadata": {
    "collapsed": true
   },
   "outputs": [],
   "source": [
    "# Plot your data! Which one is the favorite? Is there a tie? \n"
   ]
  },
  {
   "cell_type": "code",
   "execution_count": null,
   "metadata": {
    "collapsed": true
   },
   "outputs": [],
   "source": [
    "# What did you learn with the data you collected?\n",
    "\n",
    "\n",
    "\n"
   ]
  }
 ],
 "metadata": {
  "kernelspec": {
   "display_name": "Python 3",
   "language": "python",
   "name": "python3"
  },
  "language_info": {
   "codemirror_mode": {
    "name": "ipython",
    "version": 3
   },
   "file_extension": ".py",
   "mimetype": "text/x-python",
   "name": "python",
   "nbconvert_exporter": "python",
   "pygments_lexer": "ipython3",
   "version": "3.6.0"
  }
 },
 "nbformat": 4,
 "nbformat_minor": 2
}
