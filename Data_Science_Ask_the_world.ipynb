{
 "cells": [
  {
   "cell_type": "markdown",
   "metadata": {},
   "source": [
    " "
   ]
  },
  {
   "cell_type": "markdown",
   "metadata": {},
   "source": [
    "# Collecting and Vizualising Data\n",
    "\n",
    "In this lesson we will practice __collecting and visualizing__ Data of our interest. \n",
    "\n",
    "We learned earlier that data is made up of information and facts. So how do we collect and show data? \n",
    "\n",
    "Here we will work on a very simple way of collecting and storing our data.    "
   ]
  },
  {
   "cell_type": "markdown",
   "metadata": {},
   "source": [
    "### Storing the Data collected\n",
    "I asked the peers in my classroom __what sport was their favorite__ out of Soccer, Swimming or Rock Climbing.  \n",
    "Now how do I store that information?  \n",
    "\n",
    "A very simple way to __store__ data so we can visualize it, is by creating lists with that information.  \n",
    "\n",
    "In the cell below, the first list __is storing the three sports__ I asked them to choose from __as their prefered sport,__  \n",
    "and the second list is storing the number of students that prefered soccer, swimming or rock climbing.  "
   ]
  },
  {
   "cell_type": "code",
   "execution_count": null,
   "metadata": {},
   "outputs": [],
   "source": [
    "activities = ['soccer', 'swimming', 'rock climbing'] # what are we creating in this line?\n",
    "students = [5, 3, 8]"
   ]
  },
  {
   "cell_type": "markdown",
   "metadata": {},
   "source": [
    "### Creating a Dataframe\n",
    " To prepare for our plots, we also need to combine the lists together into a set of rows and columns called a **dataframe**. To do this, we'll need to import the **pandas** library. "
   ]
  },
  {
   "cell_type": "code",
   "execution_count": null,
   "metadata": {},
   "outputs": [],
   "source": [
    "# Make a dataframe called student_activities\n",
    "import pandas\n",
    "student_activities = pandas.DataFrame({'activity': activities, 'number_students': students})\n",
    "student_activities"
   ]
  },
  {
   "cell_type": "markdown",
   "metadata": {},
   "source": [
    "### Visualizing our Data\n",
    "To show, or **visualize**, data, we often use **plots**.   \n",
    "Let's talk through the lines of code below and see what the output looks like.   \n",
    "Pay special attention to what's happening in the third line of code!"
   ]
  },
  {
   "cell_type": "code",
   "execution_count": null,
   "metadata": {},
   "outputs": [],
   "source": [
    "# We use this special command at the top to tell Python we want to show a plot. \n",
    "%matplotlib inline \n",
    "import seaborn \n",
    "seaborn.barplot(x = 'activity', y = 'number_students', data = student_activities) "
   ]
  },
  {
   "cell_type": "markdown",
   "metadata": {},
   "source": [
    "Pretty, isn't it? This plot is called a **bar plot** because each bar shows how many students prefer each sport. There's one bar for each activity, and a taller bar means more students prefere that activity. The numbers on the left show the exact number of students."
   ]
  },
  {
   "cell_type": "markdown",
   "metadata": {},
   "source": [
    "__Your Turn:__ Change the names in __activities list__ and change the numbers in the __students list__.  \n",
    "Then run that cell again and all the other cells up to here. Is the plot different?  :) "
   ]
  },
  {
   "cell_type": "markdown",
   "metadata": {},
   "source": [
    "__Your Turn__: In the cell below, try the **seaborn.barplot()** function again, but switch the names that were set to 'x' and 'y'. What happens? "
   ]
  },
  {
   "cell_type": "code",
   "execution_count": null,
   "metadata": {},
   "outputs": [],
   "source": [
    "# Switch the list positions\n"
   ]
  },
  {
   "cell_type": "markdown",
   "metadata": {},
   "source": [
    "Crazy, right? This is how the 'x' and 'y' choices affect your plot. The first version of the plot is used more commonly, so try to use vertical bars when you can. That means putting the number list second. "
   ]
  },
  {
   "cell_type": "markdown",
   "metadata": {},
   "source": [
    "### Project: Ask the world!!\n",
    "If you could ask the world about their __preferences about something__, what would you ask?    "
   ]
  },
  {
   "cell_type": "markdown",
   "metadata": {},
   "source": [
    "### Collect Data\n",
    "Now you're going to collect some data to make your own plot. Here's what you need to do:  \n",
    "\n",
    "__1.__ Grab paper and pen and ask each of your classmates and teachers __what they prefer given three choices__ from something your are curious about. For example: Which style of movies do you prefer: Action, Drama or Comedy? "
   ]
  },
  {
   "cell_type": "markdown",
   "metadata": {},
   "source": [
    "### Store the Data collected\n",
    "\n",
    "__2.__ In Python make two lists just like in our example above: one for the the three options for your topic, and one for how many people prefers each.   \n",
    "Use the example above for help, and make sure that your numbers and choices match by index.   "
   ]
  },
  {
   "cell_type": "code",
   "execution_count": null,
   "metadata": {},
   "outputs": [],
   "source": [
    "# Create your two lists. Look that the first cell with code above for reference.  \n",
    "\n"
   ]
  },
  {
   "cell_type": "markdown",
   "metadata": {},
   "source": [
    "### Create a Dataframe\n",
    "\n",
    "__3.__ Create a Dataframe using `pandas.DataFrame( )`. Look at the __second__ cell of code above for reference.\n"
   ]
  },
  {
   "cell_type": "code",
   "execution_count": null,
   "metadata": {},
   "outputs": [],
   "source": [
    "# Create a dataframe with the lists your ceated.\n",
    "\n"
   ]
  },
  {
   "cell_type": "markdown",
   "metadata": {},
   "source": [
    "### Visualize your Data\n",
    "__4.__ Create a bar plot using `seaborn.barplot()` to show off your fancy new data! Look at the __third__ cell of code above for reference."
   ]
  },
  {
   "cell_type": "code",
   "execution_count": null,
   "metadata": {},
   "outputs": [],
   "source": [
    "# Plot your data! Which choice was their favorite?  \n"
   ]
  },
  {
   "cell_type": "markdown",
   "metadata": {
    "collapsed": true
   },
   "source": [
    "### 5. Discuss the Results\n",
    "\n",
    "What did you learn with the data you collected? \n",
    "Once every group is done with visualizing their data, they should tell their classmates the result of their data collection.   \n",
    "__What was people's favorite of...?__   \n",
    "\n",
    "\n",
    "\n"
   ]
  },
  {
   "cell_type": "code",
   "execution_count": null,
   "metadata": {},
   "outputs": [],
   "source": []
  }
 ],
 "metadata": {
  "kernelspec": {
   "display_name": "Python 3",
   "language": "python",
   "name": "python3"
  },
  "language_info": {
   "codemirror_mode": {
    "name": "ipython",
    "version": 3
   },
   "file_extension": ".py",
   "mimetype": "text/x-python",
   "name": "python",
   "nbconvert_exporter": "python",
   "pygments_lexer": "ipython3",
   "version": "3.7.3"
  }
 },
 "nbformat": 4,
 "nbformat_minor": 2
}
