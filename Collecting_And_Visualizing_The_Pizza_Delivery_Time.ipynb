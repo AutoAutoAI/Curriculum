{
 "cells": [
  {
   "cell_type": "markdown",
   "metadata": {},
   "source": [
    "## Collecting And Visualizing The Pizza Delivery Time  \n",
    "Run each cell below in order. "
   ]
  },
  {
   "cell_type": "markdown",
   "metadata": {},
   "source": [
    "![](images/pizza_delivery.png)"
   ]
  },
  {
   "cell_type": "code",
   "execution_count": null,
   "metadata": {},
   "outputs": [],
   "source": [
    "# Import the libraries needed\n",
    "import car\n",
    "from datetime import datetime"
   ]
  },
  {
   "cell_type": "markdown",
   "metadata": {},
   "source": [
    "### The setup\n",
    "Make sure you have a few figurines \"waiting for delivery\" on each marked spot as that will help with their detection.\n",
    "Adjust the `pizza_delivery()` function (defined below) according to your setup, e.g. the time input `car.forward()` needs.   \n",
    "To collect 3 delivery times, you will need to make sure your setup and code is well adjusted so you can deliver 3 pizzas at once (by detecting a pedestrian on each of the 3 homes). Good luck!!"
   ]
  },
  {
   "cell_type": "markdown",
   "metadata": {},
   "source": [
    "\n",
    "[![IMAGE ALT TEXT HERE](http://img.youtube.com/vi/97LjzCfyx2A/0.jpg)](http://www.youtube.com/watch?v=97LjzCfyx2A)\n"
   ]
  },
  {
   "cell_type": "markdown",
   "metadata": {},
   "source": [
    "### Let's collect the pizza delivery time\n",
    "\n",
    "Below we have the code for the pizza delivery project. Adjust your code as need so your car can detect pedestrians in the homes it delivers pizza.\n",
    "\n",
    "If you adjust the code in the function below, run the cell again to redefine the function before calling it."
   ]
  },
  {
   "cell_type": "code",
   "execution_count": null,
   "metadata": {},
   "outputs": [],
   "source": [
    "def pizza_delivery(number_of_homes):\n",
    "    # create a list to collect time\n",
    "    delivery_times = []  # only needs to be defined once \n",
    "    \n",
    "    while len(delivery_times) < number_of_homes:\n",
    "        car.forward(1)\n",
    "        frame = car.capture()\n",
    "        pedestrians = car.detect_pedestrians(frame)\n",
    "        car.plot(frame)\n",
    "\n",
    "        if pedestrians:\n",
    "            current_time = datetime.now()\n",
    "            delivery_times.append(current_time)\n",
    "            car.print(\"I'm delivering a pizza!\")\n",
    "            car.honk()\n",
    "            car.pause(3)\n",
    "            car.reverse(0.3)\n",
    "            car.left(0.9)\n",
    "    \n",
    "    # return the delivery time data collected \n",
    "    return delivery_times"
   ]
  },
  {
   "cell_type": "markdown",
   "metadata": {},
   "source": [
    "### Running the pizza_delivery function "
   ]
  },
  {
   "cell_type": "code",
   "execution_count": null,
   "metadata": {},
   "outputs": [],
   "source": [
    "number_of_homes = 3\n",
    "delivery_times = pizza_delivery(number_of_homes)\n",
    "\n",
    "car.print(\"The delivery times are:\", delivery_times)"
   ]
  },
  {
   "cell_type": "markdown",
   "metadata": {},
   "source": [
    "### Plotting the data collected "
   ]
  },
  {
   "cell_type": "code",
   "execution_count": null,
   "metadata": {},
   "outputs": [],
   "source": [
    "# Importing a library to help us plot our data\n",
    "import matplotlib.pyplot as plt"
   ]
  },
  {
   "cell_type": "code",
   "execution_count": null,
   "metadata": {},
   "outputs": [],
   "source": [
    "plt.plot(delivery_times, marker=\"o\", linewidth=0)\n",
    "\n",
    "plt.xlabel('which pizza was delivered')\n",
    "plt.ylabel('delivery times')\n",
    "plt.show()"
   ]
  },
  {
   "cell_type": "markdown",
   "metadata": {},
   "source": [
    "### You should get something like this"
   ]
  },
  {
   "cell_type": "markdown",
   "metadata": {},
   "source": [
    "![](images/pizza_delivery_plot.png)"
   ]
  }
 ],
 "metadata": {
  "kernelspec": {
   "display_name": "Python 3",
   "language": "python",
   "name": "python3"
  },
  "language_info": {
   "codemirror_mode": {
    "name": "ipython",
    "version": 3
   },
   "file_extension": ".py",
   "mimetype": "text/x-python",
   "name": "python",
   "nbconvert_exporter": "python",
   "pygments_lexer": "ipython3",
   "version": "3.7.3"
  }
 },
 "nbformat": 4,
 "nbformat_minor": 2
}
