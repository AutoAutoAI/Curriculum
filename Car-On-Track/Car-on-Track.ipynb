{
 "cells": [
  {
   "cell_type": "markdown",
   "metadata": {},
   "source": [
    "# _AutoAuto_ Self-driving Car\n",
    "\n",
    "Let's use _Machine Learning_ (specifically, an Artificial Neural Network) to drive the _AutoAuto_ car around a track.\n",
    "\n",
    "![](images/car.jpg)"
   ]
  },
  {
   "cell_type": "markdown",
   "metadata": {},
   "source": [
    "### What is Machine Learning?\n",
    "\n",
    "_Machine Learning_ (ML) is a subfield of _Artificial Intelligence_. ML algorithms use training data to learn patters. **We** write the learning algorithm, then we feed training data into the algorithm so that it can \"learn\".\n",
    "\n",
    "ML is useful for:\n",
    "1. Having our computers detect patters which we humans **can't** detect, or\n",
    "2. Having our computers do tasks which are **boring** for us to do.\n",
    "\n",
    "Read more on [Wikipedia](https://en.wikipedia.org/wiki/Machine_learning).\n",
    "\n",
    "![](images/ml.jpg)"
   ]
  },
  {
   "cell_type": "markdown",
   "metadata": {},
   "source": [
    "### Training Data\n",
    "\n",
    "We collected over 8,000 images by manually driving the car around on the track. Every time an image was taken, the angle of the wheels was also recorded! That means we have over 8,000 image/angle pairs which were used to train the machine learning algorithm.\n",
    "\n",
    "Here are a few examples from the training set. The number above each image denotes the angle of the wheels at the moment the image was taken (positive is _left_, negative is _right_).\n",
    "\n",
    "![](images/samples.png)"
   ]
  },
  {
   "cell_type": "markdown",
   "metadata": {},
   "source": [
    "### Preprocessing\n",
    "\n",
    "Before using the training images, we _preprocess_ them to remove some of the noise which is irrelevent for driving.\n",
    "\n",
    "See below how each of the examples images is preprocessed. Notice how we:\n",
    "1. crop the image,\n",
    "2. remove the color and,\n",
    "3. only keep strong edges!\n",
    "\n",
    "![](images/samples_preprocessed.png)"
   ]
  },
  {
   "cell_type": "markdown",
   "metadata": {},
   "source": [
    "### What is an Artificial Neural Network?\n",
    "\n",
    "An _Artificial Neural Network_ is one machine learning algorithm which usually does a good job of learning from image data like we have here!\n",
    "\n",
    "Neural Networks contain many little neurons which are connected together into layers. Using an algorithm nicknamed \"backprop\", the neural network learns from the training data.\n",
    "\n",
    "Read more on [Wikipedia](https://en.wikipedia.org/wiki/Machine_learning#Artificial_neural_networks).\n",
    "\n",
    "![](images/ann_alt.png)"
   ]
  },
  {
   "cell_type": "markdown",
   "metadata": {},
   "source": [
    "### Load the necessary Python libraries\n",
    "\n",
    "The next cell loads the TensorFlow library. TensorFlow is a library which does very fast numeric operations. (Google primarily supports Tensorflow; thanks Google!)\n",
    "\n",
    "**NOTE:**\n",
    " - AuotAuto cars having libauto v2.0 already have TensorFlow installed. If you have an older AutoAuto car, please contact us at contact@autoauto.ai for assistance."
   ]
  },
  {
   "cell_type": "code",
   "execution_count": null,
   "metadata": {},
   "outputs": [],
   "source": [
    "from tensorflow import keras\n",
    "from tensorflow.keras.models import load_model"
   ]
  },
  {
   "cell_type": "markdown",
   "metadata": {},
   "source": [
    "The next cell loads the `OpenCV` library. OpenCV is used for doing image processing and computer vision. (Intel primarily supports OpenCV; thanks Intel!)"
   ]
  },
  {
   "cell_type": "code",
   "execution_count": null,
   "metadata": {},
   "outputs": [],
   "source": [
    "import numpy as np\n",
    "import cv2\n",
    "\n",
    "cv2.setNumThreads(0)   # <-- disable multithreading in opencv"
   ]
  },
  {
   "cell_type": "markdown",
   "metadata": {},
   "source": [
    "The next cell loads the car library! (Thanks AutoAuto!)"
   ]
  },
  {
   "cell_type": "code",
   "execution_count": null,
   "metadata": {},
   "outputs": [],
   "source": [
    "import car\n",
    "from car.motors import set_throttle, set_steering, safe_forward_throttle\n",
    "\n",
    "from auto.camera import global_camera"
   ]
  },
  {
   "cell_type": "markdown",
   "metadata": {},
   "source": [
    "Plus we need a few other imports:"
   ]
  },
  {
   "cell_type": "code",
   "execution_count": null,
   "metadata": {},
   "outputs": [],
   "source": [
    "import time\n",
    "from IPython.display import clear_output"
   ]
  },
  {
   "cell_type": "markdown",
   "metadata": {},
   "source": [
    "### Load the Camera and the Neural Network!\n",
    "\n",
    "The next cell creates a camera object and also loads the pre-trained Neural Network!"
   ]
  },
  {
   "cell_type": "code",
   "execution_count": null,
   "metadata": {},
   "outputs": [],
   "source": [
    "camera = global_camera()\n",
    "\n",
    "# ASSUMES YOU COPIED YOUR FILE `model_02.hdf5` INTO THE `Car-On-Track/` directory!\n",
    "#\n",
    "# If you were not able to train your own network, you can change the code below to use the file:\n",
    "#     \"model_01.hdf5\"\n",
    "# instead. That network was trained at AutoAuto HQ. If you track is different from ours, it\n",
    "# may not work well on your track.\n",
    "\n",
    "model = load_model(\"model_02.hdf5\")"
   ]
  },
  {
   "cell_type": "markdown",
   "metadata": {},
   "source": [
    "### Create the Processing Functions\n",
    "\n",
    "This next cell creates several functions to do the various steps of preprocessing. Read each function's docstring to learn what each function does."
   ]
  },
  {
   "cell_type": "code",
   "execution_count": null,
   "metadata": {},
   "outputs": [],
   "source": [
    "from preprocessing import preprocess\n",
    "\n",
    "\n",
    "def capture_preprocess_and_stream():\n",
    "    \"\"\"\n",
    "    Captures, preprocesses, and streams an image from the camera. Returns the data that will be used\n",
    "    by the Neural Network.\n",
    "    \"\"\"\n",
    "    frame = camera.capture()\n",
    "    frame_edge, frame_feats = preprocess(frame)\n",
    "    car.stream(frame_edge, verbose=False)    # , to_labs=True\n",
    "    return frame_feats\n",
    "\n",
    "def make_prediction(frame_feats):\n",
    "    \"\"\"\n",
    "    Use the Neural Network model to make a prediction for the angle of the wheels.\n",
    "    \"\"\"\n",
    "    one_sample = np.expand_dims(frame_feats, axis=0)\n",
    "    prediction = model.predict(one_sample)[0][0]\n",
    "    extremized_predition = prediction * 180.        # combat regression toward the mean\n",
    "    return float(extremized_predition)              # convert from np.float to python's float\n",
    "\n",
    "def loop_once():\n",
    "    \"\"\"\n",
    "    Run one \"loop\" of the control algorithm, which does the following:\n",
    "    1. Captures, preprocesses, and streams an image from the camera.\n",
    "    2. Makes a prediction for the angle of the wheels, based on that image from the camera.\n",
    "    3. Drives the car for a fraction of a second using that predicted angle.\n",
    "    \"\"\"\n",
    "    frame_feats = capture_preprocess_and_stream()\n",
    "    steering_angle = make_prediction(frame_feats)\n",
    "    set_steering(steering_angle)\n",
    "    clear_output(True)\n",
    "    print(\"Angle:\", steering_angle)\n",
    "    set_throttle(safe_forward_throttle())\n",
    "    time.sleep(0.2)\n",
    "    set_throttle(0)\n",
    "    time.sleep(0.05)"
   ]
  },
  {
   "cell_type": "markdown",
   "metadata": {},
   "source": [
    "### Finally, Drive the Car!"
   ]
  },
  {
   "cell_type": "code",
   "execution_count": null,
   "metadata": {},
   "outputs": [],
   "source": [
    "# We loop forever (via a while loop), and call `loop_once()` for each iteration.\n",
    "try:\n",
    "    while True:\n",
    "        loop_once()\n",
    "\n",
    "except KeyboardInterrupt:\n",
    "    # This exception is raised and caught here when you press the STOP button.\n",
    "    pass\n",
    "\n",
    "\n",
    "# Since we're done with the loop above, ensure that the car stops by setting\n",
    "# the throttle and steering below:\n",
    "set_throttle(0)\n",
    "set_steering(0)"
   ]
  },
  {
   "cell_type": "code",
   "execution_count": null,
   "metadata": {},
   "outputs": [],
   "source": []
  }
 ],
 "metadata": {
  "kernelspec": {
   "display_name": "Python 3",
   "language": "python",
   "name": "python3"
  },
  "language_info": {
   "codemirror_mode": {
    "name": "ipython",
    "version": 3
   },
   "file_extension": ".py",
   "mimetype": "text/x-python",
   "name": "python",
   "nbconvert_exporter": "python",
   "pygments_lexer": "ipython3",
   "version": "3.7.3"
  }
 },
 "nbformat": 4,
 "nbformat_minor": 2
}
